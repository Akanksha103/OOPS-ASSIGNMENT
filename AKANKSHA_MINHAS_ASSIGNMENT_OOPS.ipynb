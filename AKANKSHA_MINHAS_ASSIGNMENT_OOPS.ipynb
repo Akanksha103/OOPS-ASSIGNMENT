{
  "nbformat": 4,
  "nbformat_minor": 0,
  "metadata": {
    "colab": {
      "provenance": []
    },
    "kernelspec": {
      "name": "python3",
      "display_name": "Python 3"
    },
    "language_info": {
      "name": "python"
    }
  },
  "cells": [
    {
      "cell_type": "code",
      "execution_count": null,
      "metadata": {
        "id": "YQG84F0OYpbn"
      },
      "outputs": [],
      "source": []
    },
    {
      "cell_type": "markdown",
      "source": [
        "PRACTICAL QUESTIONS"
      ],
      "metadata": {
        "id": "hUu_dAcoYqVZ"
      }
    },
    {
      "cell_type": "markdown",
      "source": [
        "Q1. Create a parent class Animal with a method speak() that prints a generic message. Create a child class Dog\n",
        "that overrides the speak() method to print \"Bark!\"?"
      ],
      "metadata": {
        "id": "oy4jEmBPYsmO"
      }
    },
    {
      "cell_type": "code",
      "source": [
        "# Parent class\n",
        "class Animal:\n",
        "    def speak(self):\n",
        "        print(\"The animal makes a sound.\")\n",
        "\n",
        "# Child class\n",
        "class Dog(Animal):\n",
        "    def speak(self):\n",
        "        print(\"Bark!\")\n",
        "\n",
        "# Example usage\n",
        "a = Animal()\n",
        "a.speak()\n",
        "d = Dog()\n",
        "d.speak()"
      ],
      "metadata": {
        "colab": {
          "base_uri": "https://localhost:8080/"
        },
        "id": "v4gcUGVZYxbG",
        "outputId": "2c66be36-32a1-4d5c-ee5d-cc5501b9c257"
      },
      "execution_count": 1,
      "outputs": [
        {
          "output_type": "stream",
          "name": "stdout",
          "text": [
            "The animal makes a sound.\n",
            "Bark!\n"
          ]
        }
      ]
    },
    {
      "cell_type": "markdown",
      "source": [
        "Q2. Write a program to create an abstract class Shape with a method area(). Derive classes Circle and Rectangle\n",
        "from it and implement the area() method in both?\n",
        "  "
      ],
      "metadata": {
        "id": "49apxPCDZFHO"
      }
    },
    {
      "cell_type": "code",
      "source": [
        "from abc import ABC, abstractmethod\n",
        "import math\n",
        "\n",
        "# Abstract parent class\n",
        "class Shape(ABC):\n",
        "    @abstractmethod\n",
        "    def area(self):\n",
        "        pass\n",
        "\n",
        "#Derived class: Circle\n",
        "class Circle(Shape):\n",
        "    def __init__(self, radius):\n",
        "        self.radius = radius\n",
        "\n",
        "    def area(self):\n",
        "        return math.pi * self.radius ** 2\n",
        "\n",
        "# Derived class: Rectangle\n",
        "class Rectangle(Shape):\n",
        "    def __init__(self, width, height):\n",
        "        self.width = width\n",
        "        self.height = height\n",
        "\n",
        "    def area(self):\n",
        "        return self.width * self.height\n",
        "\n",
        "# Example usage\n",
        "circle = Circle(5)\n",
        "rectangle = Rectangle(4, 6)\n",
        "\n",
        "print(\"Area of Circle:\", circle.area())\n",
        "print(\"Area of Rectangle:\", rectangle.area())"
      ],
      "metadata": {
        "colab": {
          "base_uri": "https://localhost:8080/"
        },
        "id": "TNd1wF7bZcTD",
        "outputId": "3a7e4791-bf8c-4da1-ac6e-e38abbf7b958"
      },
      "execution_count": 5,
      "outputs": [
        {
          "output_type": "stream",
          "name": "stdout",
          "text": [
            "Area of Circle: 78.53981633974483\n",
            "Area of Rectangle: 24\n"
          ]
        }
      ]
    },
    {
      "cell_type": "markdown",
      "source": [
        "Q3.  Implement a multi-level inheritance scenario where a class Vehicle has an attribute type. Derive a class Car\n",
        "and further derive a class ElectricCar that adds a battery attribute?"
      ],
      "metadata": {
        "id": "L3NnTKocaDoc"
      }
    },
    {
      "cell_type": "code",
      "source": [
        "# Base class\n",
        "class Vehicle:\n",
        "    def __init__(self, vehicle_type):\n",
        "        self.type = vehicle_type\n",
        "\n",
        "# Derived class from Vehicle\n",
        "class Car(Vehicle):\n",
        "    def __init__(self, vehicle_type, brand):\n",
        "        super().__init__(vehicle_type)\n",
        "        self.brand = brand\n",
        "\n",
        "# Further derived class from Car\n",
        "class ElectricCar(Car):\n",
        "    def __init__(self, vehicle_type, brand, battery_capacity):\n",
        "        super().__init__(vehicle_type, brand)\n",
        "        self.battery = battery_capacity\n",
        "\n",
        "    def display_info(self):\n",
        "        print(f\"Type: {self.type}\")\n",
        "        print(f\"Brand: {self.brand}\")\n",
        "        print(f\"Battery Capacity: {self.battery} kWh\")\n",
        "\n",
        "# Example usage\n",
        "my_tesla = ElectricCar(\"Electric\", \"Tesla\", 75)\n",
        "my_tesla.display_info()\n"
      ],
      "metadata": {
        "colab": {
          "base_uri": "https://localhost:8080/"
        },
        "id": "MIIbD3ahaHl_",
        "outputId": "9b59a206-abdf-4982-d222-21fc530a6eaa"
      },
      "execution_count": 6,
      "outputs": [
        {
          "output_type": "stream",
          "name": "stdout",
          "text": [
            "Type: Electric\n",
            "Brand: Tesla\n",
            "Battery Capacity: 75 kWh\n"
          ]
        }
      ]
    },
    {
      "cell_type": "markdown",
      "source": [
        "Q4. Demonstrate polymorphism by creating a base class Bird with a method fly(). Create two derived classes\n",
        "Sparrow and Penguin that override the fly() method."
      ],
      "metadata": {
        "id": "CW436g9oaRem"
      }
    },
    {
      "cell_type": "code",
      "source": [
        "# Base class\n",
        "class Bird:\n",
        "    def fly(self):\n",
        "        print(\"Bird is flying.\")\n",
        "\n",
        "# Derived class\n",
        "class Sparrow(Bird):\n",
        "    def fly(self):\n",
        "        print(\"Sparrow flies high in the sky.\")\n",
        "\n",
        "# Derived class\n",
        "class Penguin(Bird):\n",
        "    def fly(self):\n",
        "        print(\"Penguins can't fly, they swim.\")\n",
        "\n",
        "# Function that demonstrates polymorphism\n",
        "def bird_flight(bird):\n",
        "    bird.fly()\n",
        "\n",
        "# Example usage\n",
        "sparrow = Sparrow()\n",
        "penguin = Penguin()\n",
        "\n",
        "bird_flight(sparrow)\n",
        "bird_flight(penguin)"
      ],
      "metadata": {
        "colab": {
          "base_uri": "https://localhost:8080/"
        },
        "id": "Aw5Mwc4sadIm",
        "outputId": "e5a53dbf-3080-4853-c922-0bf6f93d0138"
      },
      "execution_count": 7,
      "outputs": [
        {
          "output_type": "stream",
          "name": "stdout",
          "text": [
            "Sparrow flies high in the sky.\n",
            "Penguins can't fly, they swim.\n"
          ]
        }
      ]
    },
    {
      "cell_type": "markdown",
      "source": [
        "Q5. Write a program to demonstrate encapsulation by creating a class BankAccount with private attributes\n",
        "balance and methods to deposit, withdraw, and check balance."
      ],
      "metadata": {
        "id": "bNjv9osAakHi"
      }
    },
    {
      "cell_type": "code",
      "source": [
        "class BankAccount:\n",
        "    def __init__(self, initial_balance=0):\n",
        "        self.__balance = initial_balance  # Private attribute\n",
        "\n",
        "    def deposit(self, amount):\n",
        "        if amount > 0:\n",
        "            self.__balance += amount\n",
        "            print(f\"Deposited: {amount}\")\n",
        "        else:\n",
        "            print(\"Deposit amount must be positive.\")\n",
        "\n",
        "    def withdraw(self, amount):\n",
        "        if 0 < amount <= self.__balance:\n",
        "            self.__balance -= amount\n",
        "            print(f\"Withdrew: {amount}\")\n",
        "        else:\n",
        "            print(\"Insufficient balance or invalid amount.\")\n",
        "\n",
        "    def check_balance(self):\n",
        "        print(f\"Current Balance: {self.__balance}\")\n",
        "\n",
        "# Example usage\n",
        "account = BankAccount(1000)\n",
        "account.check_balance()\n",
        "account.deposit(500)\n",
        "account.withdraw(300)\n",
        "account.check_balance()"
      ],
      "metadata": {
        "colab": {
          "base_uri": "https://localhost:8080/"
        },
        "id": "exMYACEzarJE",
        "outputId": "1cef7343-00b0-4718-b3f4-fa6cb296d393"
      },
      "execution_count": 8,
      "outputs": [
        {
          "output_type": "stream",
          "name": "stdout",
          "text": [
            "Current Balance: 1000\n",
            "Deposited: 500\n",
            "Withdrew: 300\n",
            "Current Balance: 1200\n"
          ]
        }
      ]
    },
    {
      "cell_type": "markdown",
      "source": [
        "Q6. Demonstrate runtime polymorphism using a method play() in a base class Instrument. Derive classes Guitar\n",
        "and Piano that implement their own version of play()?"
      ],
      "metadata": {
        "id": "sNai6haIbDOv"
      }
    },
    {
      "cell_type": "code",
      "source": [
        "# Base class\n",
        "class Instrument:\n",
        "    def play(self):\n",
        "        print(\"The instrument is being played.\")\n",
        "\n",
        "# Derived class\n",
        "class Guitar(Instrument):\n",
        "    def play(self):\n",
        "        print(\"Strumming the guitar.\")\n",
        "\n",
        "# Derived class\n",
        "class Piano(Instrument):\n",
        "    def play(self):\n",
        "        print(\"Playing the piano.\")\n",
        "\n",
        "# Function that uses polymorphism\n",
        "def start_playing(instrument):\n",
        "    instrument.play()\n",
        "\n",
        "# Example usage\n",
        "guitar = Guitar()\n",
        "piano = Piano()\n",
        "start_playing(guitar)\n",
        "start_playing(piano)"
      ],
      "metadata": {
        "colab": {
          "base_uri": "https://localhost:8080/"
        },
        "id": "LyRJ-VERbIMP",
        "outputId": "54cf0711-d450-433e-cfd6-5b602d4793c9"
      },
      "execution_count": 9,
      "outputs": [
        {
          "output_type": "stream",
          "name": "stdout",
          "text": [
            "Strumming the guitar.\n",
            "Playing the piano.\n"
          ]
        }
      ]
    },
    {
      "cell_type": "markdown",
      "source": [
        "Q7. Create a class MathOperations with a class method add_numbers() to add two numbers and a static\n",
        "method subtract_numbers() to subtract two numbers?"
      ],
      "metadata": {
        "id": "vzfv3OG5bihd"
      }
    },
    {
      "cell_type": "code",
      "source": [
        "class MathOperations:\n",
        "    @classmethod\n",
        "    def add_numbers(cls, a, b):\n",
        "        return a + b\n",
        "\n",
        "    @staticmethod\n",
        "    def subtract_numbers(a, b):\n",
        "        return a - b\n",
        "\n",
        "# Example usage\n",
        "sum_result = MathOperations.add_numbers(10, 5)\n",
        "diff_result = MathOperations.subtract_numbers(10, 5)\n",
        "\n",
        "print(\"Sum:\", sum_result)\n",
        "print(\"Difference:\", diff_result)"
      ],
      "metadata": {
        "colab": {
          "base_uri": "https://localhost:8080/"
        },
        "id": "Pv89od3abnnf",
        "outputId": "2a27209b-b65c-4097-bac2-8b417b3f5aeb"
      },
      "execution_count": 10,
      "outputs": [
        {
          "output_type": "stream",
          "name": "stdout",
          "text": [
            "Sum: 15\n",
            "Difference: 5\n"
          ]
        }
      ]
    },
    {
      "cell_type": "markdown",
      "source": [
        "Q8.  Implement a class Person with a class method to count the total number of persons created?"
      ],
      "metadata": {
        "id": "lRnBaOQkbzNB"
      }
    },
    {
      "cell_type": "code",
      "source": [
        "class Person:\n",
        "    count = 0  # Class variable to track number of persons\n",
        "\n",
        "    def __init__(self, name):\n",
        "        self.name = name\n",
        "        Person.count += 1\n",
        "\n",
        "    @classmethod\n",
        "    def get_person_count(cls):\n",
        "        return cls.count\n",
        "\n",
        "# Example usage\n",
        "p1 = Person(\"Alice\")\n",
        "p2 = Person(\"Bob\")\n",
        "p3 = Person(\"Charlie\")\n",
        "\n",
        "print(\"Total Persons Created:\", Person.get_person_count())"
      ],
      "metadata": {
        "colab": {
          "base_uri": "https://localhost:8080/"
        },
        "id": "5UsRXgHdb4Ak",
        "outputId": "d6dec998-c1f8-498b-85c9-dd633c35ca2a"
      },
      "execution_count": 11,
      "outputs": [
        {
          "output_type": "stream",
          "name": "stdout",
          "text": [
            "Total Persons Created: 3\n"
          ]
        }
      ]
    },
    {
      "cell_type": "markdown",
      "source": [
        "Q9.  Write a class Fraction with attributes numerator and denominator. Override the str method to display the\n",
        "fraction as \"numerator/denominator\"?"
      ],
      "metadata": {
        "id": "8VUsp-yBcAu7"
      }
    },
    {
      "cell_type": "code",
      "source": [
        "class Fraction:\n",
        "    def __init__(self, numerator, denominator):\n",
        "        self.numerator = numerator\n",
        "        self.denominator = denominator\n",
        "\n",
        "    def __str__(self):\n",
        "        return f\"{self.numerator}/{self.denominator}\"\n",
        "\n",
        "# Example usage\n",
        "f1 = Fraction(3, 4)\n",
        "f2 = Fraction(5, 8)\n",
        "\n",
        "print(f1)\n",
        "print(f2)"
      ],
      "metadata": {
        "colab": {
          "base_uri": "https://localhost:8080/"
        },
        "id": "N6iXEz5hcG7_",
        "outputId": "7af17970-b68b-43a6-e446-b7cc30cb4f43"
      },
      "execution_count": 12,
      "outputs": [
        {
          "output_type": "stream",
          "name": "stdout",
          "text": [
            "3/4\n",
            "5/8\n"
          ]
        }
      ]
    },
    {
      "cell_type": "markdown",
      "source": [
        "Q10.  Demonstrate operator overloading by creating a class Vector and overriding the add method to add two\n",
        "vectors?"
      ],
      "metadata": {
        "id": "B9ayWv-Vcpno"
      }
    },
    {
      "cell_type": "code",
      "source": [
        "class Vector:\n",
        "    def __init__(self, x, y):\n",
        "        self.x = x\n",
        "        self.y = y\n",
        "\n",
        "    # Overloading the + operator\n",
        "    def __add__(self, other):\n",
        "        return Vector(self.x + other.x, self.y + other.y)\n",
        "\n",
        "    def __str__(self):\n",
        "        return f\"({self.x}, {self.y})\"\n",
        "\n",
        "# Example usage\n",
        "v1 = Vector(2, 3)\n",
        "v2 = Vector(4, 5)\n",
        "v3 = v1 + v2  # Calls v1.__add__(v2)\n",
        "\n",
        "print(\"Vector 1:\", v1)\n",
        "print(\"Vector 2:\", v2)\n",
        "print(\"Vector 3 (v1 + v2):\", v3)"
      ],
      "metadata": {
        "colab": {
          "base_uri": "https://localhost:8080/"
        },
        "id": "FbRiy9IzdCX-",
        "outputId": "70a4db2c-dad6-4816-e76f-c89d8c175301"
      },
      "execution_count": 13,
      "outputs": [
        {
          "output_type": "stream",
          "name": "stdout",
          "text": [
            "Vector 1: (2, 3)\n",
            "Vector 2: (4, 5)\n",
            "Vector 3 (v1 + v2): (6, 8)\n"
          ]
        }
      ]
    },
    {
      "cell_type": "markdown",
      "source": [
        "Q11.  Create a class Person with attributes name and age. Add a method greet() that prints \"Hello, my name is\n",
        "{name} and I am {age} years old.\"?"
      ],
      "metadata": {
        "id": "rKaJ-9sodRxn"
      }
    },
    {
      "cell_type": "code",
      "source": [
        "class Person:\n",
        "    def __init__(self, name, age):\n",
        "        self.name = name\n",
        "        self.age = age\n",
        "\n",
        "    def greet(self):\n",
        "        print(f\"Hello, my name is {self.name} and I am {self.age} years old.\")\n",
        "\n",
        "# Example usage\n",
        "p1 = Person(\"Alice\", 30)\n",
        "p1.greet()"
      ],
      "metadata": {
        "colab": {
          "base_uri": "https://localhost:8080/"
        },
        "id": "1av9WsW1dXPv",
        "outputId": "4ec88813-5595-4776-8c3f-8f10752b95a9"
      },
      "execution_count": 14,
      "outputs": [
        {
          "output_type": "stream",
          "name": "stdout",
          "text": [
            "Hello, my name is Alice and I am 30 years old.\n"
          ]
        }
      ]
    },
    {
      "cell_type": "markdown",
      "source": [
        "Q12.  Implement a class Student with attributes name and grades. Create a method average_grade() to compute\n",
        "the average of the grades?"
      ],
      "metadata": {
        "id": "kenmAcZTdfk6"
      }
    },
    {
      "cell_type": "code",
      "source": [
        "class Student:\n",
        "    def __init__(self, name, grades):\n",
        "        self.name = name\n",
        "        self.grades = grades  # List of numeric grades\n",
        "\n",
        "    def average_grade(self):\n",
        "        if not self.grades:\n",
        "            return 0\n",
        "        return sum(self.grades) / len(self.grades)\n",
        "\n",
        "# Example usage\n",
        "student1 = Student(\"John\", [85, 90, 78, 92])\n",
        "print(f\"{student1.name}'s average grade is: {student1.average_grade():.2f}\")\n"
      ],
      "metadata": {
        "colab": {
          "base_uri": "https://localhost:8080/"
        },
        "id": "lugyTkN5djwV",
        "outputId": "fd83c347-8409-4e1c-e78d-8ccf65c5693d"
      },
      "execution_count": 15,
      "outputs": [
        {
          "output_type": "stream",
          "name": "stdout",
          "text": [
            "John's average grade is: 86.25\n"
          ]
        }
      ]
    },
    {
      "cell_type": "markdown",
      "source": [
        "Q13.  Create a class Rectangle with methods set_dimensions() to set the dimensions and area() to calculate the\n",
        "area?"
      ],
      "metadata": {
        "id": "eBUuXQDzdqlM"
      }
    },
    {
      "cell_type": "code",
      "source": [
        "class Rectangle:\n",
        "    def __init__(self):\n",
        "        self.length = 0\n",
        "        self.width = 0\n",
        "\n",
        "    def set_dimensions(self, length, width):\n",
        "        self.length = length\n",
        "        self.width = width\n",
        "\n",
        "    def area(self):\n",
        "        return self.length * self.width\n",
        "\n",
        "# Example usage\n",
        "rect = Rectangle()\n",
        "rect.set_dimensions(5, 3)\n",
        "print(\"Area of Rectangle:\", rect.area())"
      ],
      "metadata": {
        "colab": {
          "base_uri": "https://localhost:8080/"
        },
        "id": "-8SCQsQrdwbT",
        "outputId": "5ed36411-383d-45d8-91d9-3531c4325adb"
      },
      "execution_count": 16,
      "outputs": [
        {
          "output_type": "stream",
          "name": "stdout",
          "text": [
            "Area of Rectangle: 15\n"
          ]
        }
      ]
    },
    {
      "cell_type": "markdown",
      "source": [
        "Q14.  Create a class Employee with a method calculate_salary() that computes the salary based on hours worked\n",
        "and hourly rate. Create a derived class Manager that adds a bonus to the salary?"
      ],
      "metadata": {
        "id": "mBKYGabzd4W_"
      }
    },
    {
      "cell_type": "code",
      "source": [
        "# Base class\n",
        "class Employee:\n",
        "    def __init__(self, name, hours_worked, hourly_rate):\n",
        "        self.name = name\n",
        "        self.hours_worked = hours_worked\n",
        "        self.hourly_rate = hourly_rate\n",
        "\n",
        "    def calculate_salary(self):\n",
        "        return self.hours_worked * self.hourly_rate\n",
        "\n",
        "# Derived class\n",
        "class Manager(Employee):\n",
        "    def __init__(self, name, hours_worked, hourly_rate, bonus):\n",
        "        super().__init__(name, hours_worked, hourly_rate)\n",
        "        self.bonus = bonus\n",
        "\n",
        "    def calculate_salary(self):\n",
        "        base_salary = super().calculate_salary()\n",
        "        return base_salary + self.bonus\n",
        "\n",
        "# Example usage\n",
        "emp = Employee(\"Alice\", 40, 20)\n",
        "mgr = Manager(\"Bob\", 40, 30, 500)\n",
        "\n",
        "print(f\"{emp.name}'s Salary: ${emp.calculate_salary()}\")\n",
        "print(f\"{mgr.name}'s Salary: ${mgr.calculate_salary()}\")"
      ],
      "metadata": {
        "colab": {
          "base_uri": "https://localhost:8080/"
        },
        "id": "G_mm01S_d8vy",
        "outputId": "8c801a12-d349-47e3-fdca-0f9b21a01d2f"
      },
      "execution_count": 17,
      "outputs": [
        {
          "output_type": "stream",
          "name": "stdout",
          "text": [
            "Alice's Salary: $800\n",
            "Bob's Salary: $1700\n"
          ]
        }
      ]
    },
    {
      "cell_type": "markdown",
      "source": [
        "Q15.  Create a class Product with attributes name, price, and quantity. Implement a method total_price() that\n",
        "calculates the total price of the product?"
      ],
      "metadata": {
        "id": "_VEouiIteJoh"
      }
    },
    {
      "cell_type": "code",
      "source": [
        "class Product:\n",
        "    def __init__(self, name, price, quantity):\n",
        "        self.name = name\n",
        "        self.price = price\n",
        "        self.quantity = quantity\n",
        "\n",
        "    def total_price(self):\n",
        "        return self.price * self.quantity\n",
        "\n",
        "# Example usage\n",
        "p1 = Product(\"Laptop\", 50000, 2)\n",
        "print(f\"Total price for {p1.name}: ₹{p1.total_price()}\")\n"
      ],
      "metadata": {
        "colab": {
          "base_uri": "https://localhost:8080/"
        },
        "id": "igWssCNFeN5v",
        "outputId": "acddb4a7-542e-4c36-cab7-5ddd8fd6292a"
      },
      "execution_count": 18,
      "outputs": [
        {
          "output_type": "stream",
          "name": "stdout",
          "text": [
            "Total price for Laptop: ₹100000\n"
          ]
        }
      ]
    },
    {
      "cell_type": "markdown",
      "source": [
        "Q16. Create a class Animal with an abstract method sound(). Create two derived classes Cow and Sheep that\n",
        "implement the sound() method?"
      ],
      "metadata": {
        "id": "t_udeFDieT3L"
      }
    },
    {
      "cell_type": "code",
      "source": [
        "from abc import ABC, abstractmethod\n",
        "\n",
        "# Abstract base class\n",
        "class Animal(ABC):\n",
        "    @abstractmethod\n",
        "    def sound(self):\n",
        "        pass\n",
        "\n",
        "# Derived class: Cow\n",
        "class Cow(Animal):\n",
        "    def sound(self):\n",
        "        return \"Moo\"\n",
        "\n",
        "# Derived class: Sheep\n",
        "class Sheep(Animal):\n",
        "    def sound(self):\n",
        "        return \"Baa\"\n",
        "\n",
        "# Example usage\n",
        "cow = Cow()\n",
        "sheep = Sheep()\n",
        "\n",
        "print(\"Cow says:\", cow.sound())\n",
        "print(\"Sheep says:\", sheep.sound())"
      ],
      "metadata": {
        "colab": {
          "base_uri": "https://localhost:8080/"
        },
        "id": "CF8tHkZ8eZYu",
        "outputId": "4cf70ae6-901e-4c29-8fc1-5f909242ddcf"
      },
      "execution_count": 19,
      "outputs": [
        {
          "output_type": "stream",
          "name": "stdout",
          "text": [
            "Cow says: Moo\n",
            "Sheep says: Baa\n"
          ]
        }
      ]
    },
    {
      "cell_type": "markdown",
      "source": [
        "Q17. Create a class Book with attributes title, author, and year_published. Add a method get_book_info() that\n",
        "returns a formatted string with the book's details?"
      ],
      "metadata": {
        "id": "ZDQzUBDqermS"
      }
    },
    {
      "cell_type": "code",
      "source": [
        "class Book:\n",
        "    def __init__(self, title, author, year_published):\n",
        "        self.title = title\n",
        "        self.author = author\n",
        "        self.year_published = year_published\n",
        "\n",
        "    def get_book_info(self):\n",
        "        return f\"'{self.title}' by {self.author}, published in {self.year_published}\"\n",
        "\n",
        "# Example usage\n",
        "book1 = Book(\"To Kill a Mockingbird\", \"Harper Lee\", 1960)\n",
        "print(book1.get_book_info())\n"
      ],
      "metadata": {
        "colab": {
          "base_uri": "https://localhost:8080/"
        },
        "id": "rMBKPhHGew-8",
        "outputId": "9733f7ae-811c-42c1-b85f-44ca3f123a60"
      },
      "execution_count": 20,
      "outputs": [
        {
          "output_type": "stream",
          "name": "stdout",
          "text": [
            "'To Kill a Mockingbird' by Harper Lee, published in 1960\n"
          ]
        }
      ]
    },
    {
      "cell_type": "markdown",
      "source": [
        "Q18. Create a class House with attributes address and price. Create a derived class Mansion that adds an\n",
        "attribute number_of_rooms?"
      ],
      "metadata": {
        "id": "rgq6MUiTe25B"
      }
    },
    {
      "cell_type": "code",
      "source": [
        "# Base class\n",
        "class House:\n",
        "    def __init__(self, address, price):\n",
        "        self.address = address\n",
        "        self.price = price\n",
        "\n",
        "# Derived class\n",
        "class Mansion(House):\n",
        "    def __init__(self, address, price, number_of_rooms):\n",
        "        super().__init__(address, price)\n",
        "        self.number_of_rooms = number_of_rooms\n",
        "\n",
        "    def display_info(self):\n",
        "        print(f\"Address: {self.address}\")\n",
        "        print(f\"Price: ₹{self.price}\")\n",
        "        print(f\"Number of Rooms: {self.number_of_rooms}\")\n",
        "\n",
        "# Example usage\n",
        "mansion1 = Mansion(\"123 Luxury Street, Mumbai\", 50000000, 10)\n",
        "mansion1.display_info()\n",
        ""
      ],
      "metadata": {
        "colab": {
          "base_uri": "https://localhost:8080/"
        },
        "id": "7Px36w60e7O2",
        "outputId": "cba57a46-f368-4619-bcd7-cdefb539009a"
      },
      "execution_count": 21,
      "outputs": [
        {
          "output_type": "stream",
          "name": "stdout",
          "text": [
            "Address: 123 Luxury Street, Mumbai\n",
            "Price: ₹50000000\n",
            "Number of Rooms: 10\n"
          ]
        }
      ]
    },
    {
      "cell_type": "markdown",
      "source": [],
      "metadata": {
        "id": "Ws5gIKwGgCmR"
      }
    },
    {
      "cell_type": "markdown",
      "source": [
        "THEORY QUESTIONS"
      ],
      "metadata": {
        "id": "jjLDqNWDfIYH"
      }
    },
    {
      "cell_type": "markdown",
      "source": [
        "Q1.  What is Object-Oriented Programming (OOP)?"
      ],
      "metadata": {
        "id": "qXS8C30jfLoQ"
      }
    },
    {
      "cell_type": "markdown",
      "source": [
        "Ans. Object-Oriented Programming (OOP) is a programming paradigm based on the concept of \"objects\", which are instances of classes. It organizes code by grouping data and behaviors together, making it easier to design, understand, and maintain complex software systems."
      ],
      "metadata": {
        "id": "CuxwhjzzfTfe"
      }
    },
    {
      "cell_type": "markdown",
      "source": [
        "Q2. What is a class in OOP?"
      ],
      "metadata": {
        "id": "FiImzwIXgF75"
      }
    },
    {
      "cell_type": "markdown",
      "source": [
        "Ans. In Object-Oriented Programming (OOP), a class is a blueprint or template used to create objects. It defines the attributes (data) and methods (functions) that the created objects will have.\n",
        "\n"
      ],
      "metadata": {
        "id": "pVo7BQlWgV6i"
      }
    },
    {
      "cell_type": "markdown",
      "source": [
        "Q3.  What is an object in OOP?"
      ],
      "metadata": {
        "id": "5lrY6TRKgoHG"
      }
    },
    {
      "cell_type": "markdown",
      "source": [
        "Ans. In Object-Oriented Programming (OOP), an object is a real-world entity created using a class. It is an instance of a class that contains actual values and can perform defined behaviors."
      ],
      "metadata": {
        "id": "7zhoir_0gs7H"
      }
    },
    {
      "cell_type": "markdown",
      "source": [
        "Q4. What is the difference between abstraction and encapsulation?"
      ],
      "metadata": {
        "id": "gqERMF84hC1U"
      }
    },
    {
      "cell_type": "markdown",
      "source": [],
      "metadata": {
        "id": "_C_dIuJWhOg0"
      }
    },
    {
      "cell_type": "markdown",
      "source": [
        "Ans. Abstraction - Abstraction means hiding complex implementation details and showing only the essential features of an object.\n",
        "Encapsulation -  Encapsulation is the process of wrapping data and methods into a single unit (class) and restricting access to some parts of the object.\n",
        "\n"
      ],
      "metadata": {
        "id": "MVsO3vn1hPJn"
      }
    },
    {
      "cell_type": "markdown",
      "source": [
        "Q5.  What are dunder methods in Python?"
      ],
      "metadata": {
        "id": "oYJlPWFniAid"
      }
    },
    {
      "cell_type": "markdown",
      "source": [
        "Ans. Dunder methods in Python (short for \"double underscore\" methods, also called magic methods or special methods) are special predefined methods that begin and end with double underscores, like __init__, __str__, or __add__.\n",
        "\n",
        "They allow you to define or customize the behavior of your objects for built-in Python operations (like printing, adding, comparing, etc.)."
      ],
      "metadata": {
        "id": "YzGWoS34iKc1"
      }
    },
    {
      "cell_type": "markdown",
      "source": [
        "Q6.  Explain the concept of inheritance in OOP?"
      ],
      "metadata": {
        "id": "NYn6ItoZiiUZ"
      }
    },
    {
      "cell_type": "markdown",
      "source": [
        "Ans. Inheritance is a key feature in OOP that allows a class (child or subclass) to inherit properties and behaviors (attributes and methods) from another class (parent or superclass).\n",
        "\n",
        "This promotes code reuse, extensibility, and a clear hierarchical structure between classes.\n",
        "\n",
        "🔸 Real-World Analogy:\n",
        "Imagine a general class Vehicle. A Car and a Bike are specific types of vehicles. Instead of redefining common properties like speed or start(), they can inherit these from the Vehicle class and add their own specific features.\n",
        "\n",
        "🔹 Basic Syntax in Python:\n",
        "python\n",
        "Copy\n",
        "Edit\n",
        "# Parent class (Base class / Superclass)\n",
        "class Animal:\n",
        "    def speak(self):\n",
        "        print(\"This animal makes a sound.\")\n",
        "\n",
        "# Child class (Derived class / Subclass)\n",
        "class Dog(Animal):\n",
        "    def speak(self):\n",
        "        print(\"Bark!\")\n",
        "\n",
        "# Using inheritance\n",
        "a = Animal()\n",
        "d = Dog()\n",
        "\n",
        "a.speak()  # Output: This animal makes a sound.\n",
        "d.speak()  # Output: Bark! (method overridden)\n",
        "🔸 Types of Inheritance in Python:\n",
        "Type\tExample\n",
        "Single\tOne child inherits from one parent\n",
        "Multiple\tOne child inherits from multiple parents\n",
        "Multilevel\tChild inherits from parent, and grandchild inherits from child\n",
        "Hierarchical\tMultiple children inherit from the same parent\n",
        "Hybrid\tCombination of the above types\n",
        "\n",
        "🔹 Method Overriding\n",
        "Child classes can override methods from the parent class to provide specific behavior.\n",
        "\n",
        "python\n",
        "Copy\n",
        "Edit\n",
        "class Bird(Animal):\n",
        "    def speak(self):\n",
        "        print(\"Tweet!\")"
      ],
      "metadata": {
        "id": "Hr0Ydn-yipAJ"
      }
    },
    {
      "cell_type": "markdown",
      "source": [
        "Q7. What is polymorphism in OOP?"
      ],
      "metadata": {
        "id": "dQeWvOv8jHBZ"
      }
    },
    {
      "cell_type": "markdown",
      "source": [
        "Ans. Polymorphism means \"many forms.\" In OOP, it refers to the ability of different objects to respond to the same method or function in different ways.\n",
        "\n",
        "It allows one interface to be used for different types of objects, making code more flexible and extensible.\n",
        "\n"
      ],
      "metadata": {
        "id": "GvMCHD17jXqj"
      }
    },
    {
      "cell_type": "markdown",
      "source": [
        "Q8.  How is encapsulation achieved in Python?"
      ],
      "metadata": {
        "id": "3qV84PbXjlfe"
      }
    },
    {
      "cell_type": "markdown",
      "source": [
        "Ans. Polymorphism means \"many forms.\" In OOP, it refers to the ability of different objects to respond to the same method or function in different ways.\n",
        "\n",
        "It allows one interface to be used for different types of objects, making code more flexible and extensible.\n",
        "\n"
      ],
      "metadata": {
        "id": "OjhC5_gGjq6l"
      }
    },
    {
      "cell_type": "markdown",
      "source": [
        "Q9.  What is a constructor in Python?"
      ],
      "metadata": {
        "id": "jLUWCxLEkNxN"
      }
    },
    {
      "cell_type": "markdown",
      "source": [
        "Ans. In Python, a constructor is a special method used to initialize an object when it is created from a class.\n",
        "\n",
        "The constructor method in Python is named __init__() — short for \"initialize.\"\n",
        "\n",
        "🔸 Key Characteristics:\n",
        "Automatically called when a new object is created.\n",
        "\n",
        "Used to set initial values of attributes (object state).\n",
        "\n",
        "Always named __init__ (with double underscores)."
      ],
      "metadata": {
        "id": "et-yPVgMkZLT"
      }
    },
    {
      "cell_type": "markdown",
      "source": [
        "Q10.  What are class and static methods in Python?"
      ],
      "metadata": {
        "id": "kCVRKxQHkk8S"
      }
    },
    {
      "cell_type": "markdown",
      "source": [
        "Ans. In Python, class methods and static methods are special types of methods that differ from regular instance methods in how they are called and what they operate on.\n",
        "\n",
        "🔸 1. Class Methods\n",
        "A class method is a method that:\n",
        "\n",
        "Operates on the class itself, not the instance.\n",
        "\n",
        "Takes cls as its first parameter (instead of self).\n",
        "\n",
        "Can access and modify class-level attributes.\n",
        "\n",
        "🔸 2. Static Methods\n",
        "A static method is:\n",
        "\n",
        "A method that doesn’t access class (cls) or instance (self) data.\n",
        "\n",
        "Like a regular function but inside a class for logical grouping."
      ],
      "metadata": {
        "id": "jAxl7m1JktW3"
      }
    },
    {
      "cell_type": "markdown",
      "source": [
        "Q11.  What is method overloading in Python?"
      ],
      "metadata": {
        "id": "DLPUlRzuliSB"
      }
    },
    {
      "cell_type": "markdown",
      "source": [
        "Ans. Method Overloading means having multiple methods with the same name but different parameters (number or type) within the same class.\n",
        "\n"
      ],
      "metadata": {
        "id": "vK5_1KFklvZ6"
      }
    },
    {
      "cell_type": "markdown",
      "source": [
        "Q12.  What is method overriding in OOP?"
      ],
      "metadata": {
        "id": "NhfKwKHWmgAP"
      }
    },
    {
      "cell_type": "markdown",
      "source": [
        "Ans. Method Overriding is a feature in Object-Oriented Programming (OOP) where a child (subclass) provides a specific implementation of a method that is already defined in its parent (superclass).\n",
        "\n",
        "🔸 Key Points:\n",
        "The method name, parameters, and return type must be the same as in the parent class.\n",
        "\n",
        "It allows a subclass to customize or completely replace the behavior of the parent class method.\n",
        "\n",
        "Happens at runtime, also called runtime polymorphism."
      ],
      "metadata": {
        "id": "53VF89CNmnrM"
      }
    },
    {
      "cell_type": "markdown",
      "source": [
        "Q13. What is a property decorator in Python?"
      ],
      "metadata": {
        "id": "yuSqfGLbmymO"
      }
    },
    {
      "cell_type": "markdown",
      "source": [
        "Ans. The @property decorator in Python is used to turn a method into a \"read-only\" attribute, allowing controlled access to a class's private data — all while using attribute-like syntax.\n",
        "\n",
        "It is part of Python’s support for encapsulation and data hiding."
      ],
      "metadata": {
        "id": "aLbkJcfNm7GI"
      }
    },
    {
      "cell_type": "markdown",
      "source": [
        "Q14.  Why is polymorphism important in OOP?"
      ],
      "metadata": {
        "id": "-S2dKu8-nHLJ"
      }
    },
    {
      "cell_type": "markdown",
      "source": [
        "Ans. Polymorphism — meaning \"many forms\" — is a fundamental concept in OOP that allows objects of different classes to be treated through a common interface, typically a shared parent class or method name.\n",
        "\n",
        "✅ Importance of Polymorphism:\n",
        "1. Simplifies Code and Interfaces\n",
        "2. Supports Extensibility\n",
        "3. Enables Runtime Flexibility\n",
        "4. Promotes Reusability and Maintainability\n"
      ],
      "metadata": {
        "id": "2moYGAE7nUIo"
      }
    },
    {
      "cell_type": "markdown",
      "source": [],
      "metadata": {
        "id": "1o60g92ioJNZ"
      }
    },
    {
      "cell_type": "markdown",
      "source": [
        "Q15. What is an abstract class in Python?"
      ],
      "metadata": {
        "id": "sad62uzin3cZ"
      }
    },
    {
      "cell_type": "markdown",
      "source": [
        "Ans. An abstract class in Python is a class that cannot be instantiated directly and is meant to be inherited by other classes. It serves as a blueprint for other classes and can define abstract methods that must be implemented by its subclasses."
      ],
      "metadata": {
        "id": "6I0RGzLPn8xz"
      }
    },
    {
      "cell_type": "markdown",
      "source": [
        "Q16. What are the advantages of OOP?"
      ],
      "metadata": {
        "id": "ZvnqaljzoRig"
      }
    },
    {
      "cell_type": "markdown",
      "source": [
        "Ans. Object-Oriented Programming (OOP) offers a structured and modular approach to software development. It is especially helpful in building complex, scalable, and maintainable applications.\n",
        "\n",
        "✅ Key Advantages:\n",
        "1. Modularity\n",
        "Code is organized into classes and objects, making it easier to manage.\n",
        "\n",
        "Each class is self-contained, which improves code readability and debugging.\n",
        "\n",
        "2. Reusability (DRY Principle)\n",
        "You can reuse existing classes in new programs by inheritance.\n",
        "\n",
        "Avoids code duplication and improves efficiency.\n",
        "\n",
        "3. Encapsulation\n",
        "Bundles data and methods inside a class, protecting internal object state.\n",
        "\n",
        "Helps prevent unintended interference and promotes secure coding.\n",
        "\n",
        "4. Polymorphism\n",
        "Allows different objects to respond differently to the same method call.\n",
        "\n",
        "Enhances flexibility and makes code more general and reusable.\n",
        "\n",
        "5. Inheritance\n",
        "Facilitates code reuse and supports the creation of a hierarchical structure.\n",
        "\n",
        "Enables easy extension and modification of existing code.\n",
        "\n",
        "6. Maintainability\n",
        "Changes in one class usually have minimal or no impact on other parts of the system.\n",
        "\n",
        "Makes updates, testing, and debugging easier.\n",
        "\n",
        "7. Scalability\n",
        "OOP supports the development of large-scale applications in a systematic and organized way.\n",
        "\n",
        "New features can be added without affecting existing code.\n",
        "\n",
        "8. Abstraction\n",
        "Hides complexity by exposing only essential features.\n",
        "\n",
        "Users interact with objects without needing to know the underlying implementation.\n",
        "\n",
        "9. Improved Collaboration\n",
        "OOP allows multiple developers to work independently on different classes/modules.\n",
        "\n",
        "Promotes team development and modular architecture."
      ],
      "metadata": {
        "id": "9odee60RoY3Z"
      }
    },
    {
      "cell_type": "markdown",
      "source": [
        "Q17. What is the difference between a class variable and an instance variable?"
      ],
      "metadata": {
        "id": "SpLhlRdPom2L"
      }
    },
    {
      "cell_type": "markdown",
      "source": [
        "Ans. In Python (and OOP in general), class variables and instance variables are two types of variables that serve different scopes and purposes within a class.\n",
        "\n",
        "🔸 1. Instance Variable\n",
        "Belongs to a specific object (instance).\n",
        "\n",
        "Defined using self.variable_name inside the class.\n",
        "\n",
        "Each object has its own separate copy.\n",
        "\n",
        "Used to store data unique to each instance.\n",
        "\n",
        "🔸 2. Class Variable\n",
        "Belongs to the class itself, not to instances.\n",
        "\n",
        "Shared across all instances of the class.\n",
        "\n",
        "Defined outside any methods, directly under the class.\n",
        "\n",
        "Used to store common data for all objects."
      ],
      "metadata": {
        "id": "VDjV3AyAowJx"
      }
    },
    {
      "cell_type": "markdown",
      "source": [
        "Q18. What is multiple inheritance in Python?"
      ],
      "metadata": {
        "id": "zHc3uPL5pDYv"
      }
    },
    {
      "cell_type": "markdown",
      "source": [
        "Ans. Multiple inheritance is a feature in Python where a class can inherit from more than one parent class.\n",
        "This allows a child class to combine the behavior and properties of multiple classes.\n",
        "\n"
      ],
      "metadata": {
        "id": "bdou52vnpS6K"
      }
    },
    {
      "cell_type": "markdown",
      "source": [
        "Q19.  Explain the purpose of ‘’__str__’ and ‘__repr__’ ‘ methods in Python."
      ],
      "metadata": {
        "id": "XxRWVvQhpcWV"
      }
    },
    {
      "cell_type": "markdown",
      "source": [
        "Ans. 🔹 Purpose of __str__() and __repr__() Methods in Python\n",
        "In Python, both __str__() and __repr__() are dunder methods (i.e., double underscore methods) used to define how objects are represented as strings.\n",
        "\n",
        "They serve different purposes but often work together to make objects more readable and easier to debug.\n",
        "\n",
        "🔸 1. __str__() → User-Friendly String Representation\n",
        "Called by the built-in print() function or str() function.\n",
        "\n",
        "Should return a readable and nicely formatted string.\n",
        "\n",
        "Intended for users.\n",
        "\n",
        "🔸 2. __repr__() → Developer-Focused Representation\n",
        "Called by repr() or when inspecting objects in the interpreter (e.g., typing the object name).\n",
        "\n",
        "Should return a precise and unambiguous string, ideally one that could be used to recreate the object.\n",
        "\n",
        "Intended for developers and debugging."
      ],
      "metadata": {
        "id": "HpTAmg2dpjv2"
      }
    },
    {
      "cell_type": "markdown",
      "source": [
        "Q20. What is the significance of the ‘super()’ function in Python?"
      ],
      "metadata": {
        "id": "4VsvUaNFp8xi"
      }
    },
    {
      "cell_type": "markdown",
      "source": [
        "Ans. The super() function in Python is used to call methods from a parent (or superclass) inside a child (subclass) — especially when using inheritance.\n",
        "\n",
        "✅ Key Purposes of super():\n",
        "1. Access the parent class’s methods or constructors\n",
        "\n",
        "Avoid code duplication when extending functionality\n",
        "\n",
        "Support multiple inheritance cleanly using Python's Method Resolution Order (MRO)\n",
        "\n"
      ],
      "metadata": {
        "id": "obeSb5hlqCi9"
      }
    },
    {
      "cell_type": "markdown",
      "source": [
        "Q21. What is the significance of the __del__ method in Python?"
      ],
      "metadata": {
        "id": "VoEHE5LCqp1T"
      }
    },
    {
      "cell_type": "markdown",
      "source": [
        "Ans. The __del__() method in Python is a destructor — a special method that is automatically called when an object is about to be destroyed (i.e., when it is garbage collected).\n",
        "\n",
        "✅ Purpose of __del__():\n",
        "To define cleanup behavior for objects (e.g., closing files, releasing resources).\n",
        "\n",
        "Useful when your class manages external resources like files, network connections, or memory that needs to be released explicitly.\n",
        "\n"
      ],
      "metadata": {
        "id": "asocaHtprMQD"
      }
    },
    {
      "cell_type": "markdown",
      "source": [
        "Q22. What is the difference between @staticmethod and @classmethod in Python?"
      ],
      "metadata": {
        "id": "DXytzvYOrYC4"
      }
    },
    {
      "cell_type": "markdown",
      "source": [
        "Ans. Both @staticmethod and @classmethod are decorators used to define special types of methods inside a class. They differ in how they access class or instance data and how they are typically used.\n",
        "\n",
        "🔸 1. @staticmethod: No access to class or instance\n",
        "Behaves like a regular function, just namespaced inside a class.\n",
        "\n",
        "Used for utility methods that don’t need to access class or instance data.\n",
        "\n",
        "🔸 2. @classmethod: Has access to the class (cls)\n",
        "Can access and modify class variables.\n",
        "\n",
        "Often used for factory methods that create instances in different ways."
      ],
      "metadata": {
        "id": "P5r5bToIr0EE"
      }
    },
    {
      "cell_type": "markdown",
      "source": [
        "Q23.  How does polymorphism work in Python with inheritance?"
      ],
      "metadata": {
        "id": "aXehXPrSsbk3"
      }
    },
    {
      "cell_type": "markdown",
      "source": [
        "When multiple classes inherit from a common parent and override a shared method, you can call that method on any object — regardless of its specific class — and the correct version will be used.\n",
        "\n",
        "🔸 Example: Polymorphism with Inheritance\n",
        "python\n",
        "Copy\n",
        "Edit\n",
        "class Animal:\n",
        "    def speak(self):\n",
        "        print(\"Animal makes a sound\")\n",
        "\n",
        "class Dog(Animal):\n",
        "    def speak(self):\n",
        "        print(\"Dog barks\")\n",
        "\n",
        "class Cat(Animal):\n",
        "    def speak(self):\n",
        "        print(\"Cat meows\")\n",
        "🔹 Using Polymorphism:\n",
        "python\n",
        "Copy\n",
        "Edit\n",
        "def make_animal_speak(animal):\n",
        "    animal.speak()  # Calls the correct method based on the object type\n",
        "\n",
        "animals = [Dog(), Cat(), Animal()]\n",
        "\n",
        "for animal in animals:\n",
        "    make_animal_speak(animal)\n",
        "🔸 Output:\n",
        "css\n",
        "Copy\n",
        "Edit\n",
        "Dog barks\n",
        "Cat meows\n",
        "Animal makes a sound\n",
        "Even though we call the same method (speak()), each object responds in its own way — this is runtime polymorphism."
      ],
      "metadata": {
        "id": "3tBA0iIesh7P"
      }
    },
    {
      "cell_type": "markdown",
      "source": [
        "Q24.  What is method chaining in Python OOP?"
      ],
      "metadata": {
        "id": "dImvsEs4y94Y"
      }
    },
    {
      "cell_type": "markdown",
      "source": [
        "Ans. Method chaining in Python OOP is a programming technique where you call multiple methods on the same object in a single line, one after another. Each method returns the object itself (usually self), allowing the next method to be called immediately.\n",
        "\n"
      ],
      "metadata": {
        "id": "_fB1s2obzDNO"
      }
    },
    {
      "cell_type": "markdown",
      "source": [
        "Q25. What is the purpose of the __call__ method in Python?"
      ],
      "metadata": {
        "id": "LRlS68NfzLA0"
      }
    },
    {
      "cell_type": "markdown",
      "source": [
        "Ans. The __call__ method in Python is a special method (dunder method) that allows an instance of a class to be called like a function.\n",
        "\n",
        "✅ Purpose:\n",
        "It lets objects behave like functions.\n",
        "\n",
        "Adds flexibility and allows instances to be \"callable\", which is useful in decorators, factories, and functional-style programming.\n",
        "\n"
      ],
      "metadata": {
        "id": "zwuqTQ2FzPMh"
      }
    },
    {
      "cell_type": "markdown",
      "source": [],
      "metadata": {
        "id": "Z23VWayCzWxS"
      }
    }
  ]
}